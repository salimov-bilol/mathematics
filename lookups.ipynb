{
  "cells": [
    {
      "cell_type": "markdown",
      "metadata": {
        "id": "view-in-github",
        "colab_type": "text"
      },
      "source": [
        "<a href=\"https://colab.research.google.com/github/salimov-bilol/mathematics/blob/main/lookups.ipynb\" target=\"_parent\"><img src=\"https://colab.research.google.com/assets/colab-badge.svg\" alt=\"Open In Colab\"/></a>"
      ]
    },
    {
      "cell_type": "code",
      "execution_count": null,
      "id": "1bb890b8-55f4-4637-9682-7a962c9396e2",
      "metadata": {
        "execution": {
          "iopub.execute_input": "2022-04-15T06:59:26.111732Z",
          "iopub.status.busy": "2022-04-15T06:59:26.111477Z",
          "iopub.status.idle": "2022-04-15T06:59:58.375471Z",
          "shell.execute_reply": "2022-04-15T06:59:58.374458Z",
          "shell.execute_reply.started": "2022-04-15T06:59:26.111698Z"
        },
        "tags": [],
        "id": "1bb890b8-55f4-4637-9682-7a962c9396e2",
        "outputId": "3ac1aee0-aaad-4e19-836c-24c5ed083789",
        "colab": {
          "referenced_widgets": [
            "88c453233db9461b98c3b0305623ae04",
            ""
          ]
        }
      },
      "outputs": [
        {
          "data": {
            "application/vnd.jupyter.widget-view+json": {
              "model_id": "88c453233db9461b98c3b0305623ae04",
              "version_major": 2,
              "version_minor": 0
            },
            "text/plain": [
              "VBox()"
            ]
          },
          "metadata": {},
          "output_type": "display_data"
        },
        {
          "name": "stdout",
          "output_type": "stream",
          "text": [
            "Starting Spark application\n"
          ]
        },
        {
          "data": {
            "text/html": [
              "<table>\n",
              "<tr><th>ID</th><th>YARN Application ID</th><th>Kind</th><th>State</th><th>Spark UI</th><th>Driver log</th><th>Current session?</th></tr><tr><td>0</td><td>application_1650005457839_0002</td><td>pyspark</td><td>idle</td><td><a target=\"_blank\" href=\"http://ip-10-60-192-113.ap-southeast-1.compute.internal:20888/proxy/application_1650005457839_0002/\">Link</a></td><td><a target=\"_blank\" href=\"http://ip-10-60-192-78.ap-southeast-1.compute.internal:8042/node/containerlogs/container_1650005457839_0002_01_000001/livy\">Link</a></td><td>✔</td></tr></table>"
            ],
            "text/plain": [
              "<IPython.core.display.HTML object>"
            ]
          },
          "metadata": {},
          "output_type": "display_data"
        },
        {
          "data": {
            "application/vnd.jupyter.widget-view+json": {
              "model_id": "",
              "version_major": 2,
              "version_minor": 0
            },
            "text/plain": [
              "FloatProgress(value=0.0, bar_style='info', description='Progress:', layout=Layout(height='25px', width='50%'),…"
            ]
          },
          "metadata": {},
          "output_type": "display_data"
        },
        {
          "name": "stdout",
          "output_type": "stream",
          "text": [
            "SparkSession available as 'spark'.\n"
          ]
        },
        {
          "data": {
            "application/vnd.jupyter.widget-view+json": {
              "model_id": "",
              "version_major": 2,
              "version_minor": 0
            },
            "text/plain": [
              "FloatProgress(value=0.0, bar_style='info', description='Progress:', layout=Layout(height='25px', width='50%'),…"
            ]
          },
          "metadata": {},
          "output_type": "display_data"
        }
      ],
      "source": [
        "schema = 'id:int,collateral_type:string,collateral_type_label:string'\n",
        "records = [(1, 'HOUSE_LOT', 'House & Lot'), (2, 'CONDOMINIUM', 'Condominium'),\n",
        "           (3, 'TOWNHOUSE', 'Townhouse'), (4, 'VACANT_LOT', 'Vacant Lot'),\n",
        "           (5, 'WAREHOUSE', 'Warehouse')]"
      ]
    },
    {
      "cell_type": "code",
      "execution_count": null,
      "id": "fcb9acba-09ab-4754-b559-34c3d9321869",
      "metadata": {
        "execution": {
          "iopub.execute_input": "2022-04-15T06:59:58.379963Z",
          "iopub.status.busy": "2022-04-15T06:59:58.379671Z",
          "iopub.status.idle": "2022-04-15T07:00:00.912973Z",
          "shell.execute_reply": "2022-04-15T07:00:00.911598Z",
          "shell.execute_reply.started": "2022-04-15T06:59:58.379920Z"
        },
        "id": "fcb9acba-09ab-4754-b559-34c3d9321869",
        "outputId": "e9640604-d820-47b6-83b1-ffecafc3b018",
        "colab": {
          "referenced_widgets": [
            "a22c4a63c90a446bab04b03991e6e2fd",
            ""
          ]
        }
      },
      "outputs": [
        {
          "data": {
            "application/vnd.jupyter.widget-view+json": {
              "model_id": "a22c4a63c90a446bab04b03991e6e2fd",
              "version_major": 2,
              "version_minor": 0
            },
            "text/plain": [
              "VBox()"
            ]
          },
          "metadata": {},
          "output_type": "display_data"
        },
        {
          "data": {
            "application/vnd.jupyter.widget-view+json": {
              "model_id": "",
              "version_major": 2,
              "version_minor": 0
            },
            "text/plain": [
              "FloatProgress(value=0.0, bar_style='info', description='Progress:', layout=Layout(height='25px', width='50%'),…"
            ]
          },
          "metadata": {},
          "output_type": "display_data"
        }
      ],
      "source": [
        "df = spark.createDataFrame(records, schema)"
      ]
    },
    {
      "cell_type": "code",
      "execution_count": null,
      "id": "9e783d59-ed85-4ece-a6b2-8dcdcc311d44",
      "metadata": {
        "execution": {
          "iopub.execute_input": "2022-04-15T07:00:07.864693Z",
          "iopub.status.busy": "2022-04-15T07:00:07.864416Z",
          "iopub.status.idle": "2022-04-15T07:00:21.688946Z",
          "shell.execute_reply": "2022-04-15T07:00:21.683471Z",
          "shell.execute_reply.started": "2022-04-15T07:00:07.864662Z"
        },
        "id": "9e783d59-ed85-4ece-a6b2-8dcdcc311d44",
        "outputId": "b4003d24-8cd8-4c9f-f30e-64c02a137118",
        "colab": {
          "referenced_widgets": [
            "6b28a0e9e26a4026a507daf06c7afed4",
            ""
          ]
        }
      },
      "outputs": [
        {
          "data": {
            "application/vnd.jupyter.widget-view+json": {
              "model_id": "6b28a0e9e26a4026a507daf06c7afed4",
              "version_major": 2,
              "version_minor": 0
            },
            "text/plain": [
              "VBox()"
            ]
          },
          "metadata": {},
          "output_type": "display_data"
        },
        {
          "data": {
            "application/vnd.jupyter.widget-view+json": {
              "model_id": "",
              "version_major": 2,
              "version_minor": 0
            },
            "text/plain": [
              "FloatProgress(value=0.0, bar_style='info', description='Progress:', layout=Layout(height='25px', width='50%'),…"
            ]
          },
          "metadata": {},
          "output_type": "display_data"
        }
      ],
      "source": [
        "df.write.option(\n",
        "    \"path\",\n",
        "    's3://cdp-dev-prepared/process-maker/static/pmt_bml_collateral_type').mode(\n",
        "        \"overwrite\").saveAsTable(\n",
        "            '`process-maker-cdp-s3-prepared`.`pmt_bml_collateral_type`')"
      ]
    },
    {
      "cell_type": "code",
      "execution_count": null,
      "id": "f6e5cba3-dbe8-401b-b15c-94c5f48f6b4b",
      "metadata": {
        "id": "f6e5cba3-dbe8-401b-b15c-94c5f48f6b4b"
      },
      "outputs": [],
      "source": [
        "records = [(1, 'HOUSE_LOT', 'House & Lot'), (2, 'CONDOMINIUM', 'Condominium'),\n",
        "           (3, 'TOWNHOUSE', 'Townhouse'), (4, 'VACANT_LOT', 'Vacant Lot')]"
      ]
    },
    {
      "cell_type": "code",
      "execution_count": null,
      "id": "4abafc27-57de-4a18-b60c-87f0b49a09ed",
      "metadata": {
        "id": "4abafc27-57de-4a18-b60c-87f0b49a09ed"
      },
      "outputs": [],
      "source": [
        "df = spark.createDataFrame(records, schema)"
      ]
    },
    {
      "cell_type": "code",
      "execution_count": null,
      "id": "e5c28941-b083-4f4e-bc2c-bae733211389",
      "metadata": {
        "id": "e5c28941-b083-4f4e-bc2c-bae733211389"
      },
      "outputs": [],
      "source": [
        "df.write.option(\n",
        "    \"path\",\n",
        "    's3://cdp-dev-prepared/process-maker/static/pmt_collateral_type').mode(\n",
        "        \"overwrite\").saveAsTable(\n",
        "            '`process-maker-cdp-s3-prepared`.`pmt_collateral_type`')"
      ]
    }
  ],
  "metadata": {
    "kernelspec": {
      "display_name": "PySpark",
      "language": "",
      "name": "pysparkkernel"
    },
    "language_info": {
      "codemirror_mode": {
        "name": "python",
        "version": 2
      },
      "mimetype": "text/x-python",
      "name": "pyspark",
      "pygments_lexer": "python2"
    },
    "colab": {
      "name": "lookups.ipynb",
      "provenance": [],
      "include_colab_link": true
    }
  },
  "nbformat": 4,
  "nbformat_minor": 5
}